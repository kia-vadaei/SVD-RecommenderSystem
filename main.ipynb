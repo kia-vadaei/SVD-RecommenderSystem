{
 "cells": [
  {
   "cell_type": "code",
   "execution_count": 2,
   "metadata": {},
   "outputs": [],
   "source": [
    "import pandas as pd\n",
    "import numpy as np"
   ]
  },
  {
   "cell_type": "code",
   "execution_count": 3,
   "metadata": {},
   "outputs": [],
   "source": [
    "linkes_df = pd.read_csv('./_data_set/links.csv')\n",
    "movies_df = pd.read_csv('./_data_set/movies.csv')\n",
    "ratings_df = pd.read_csv('./_data_set/ratings.csv')\n",
    "tags_df = pd.read_csv('./_data_set/tags.csv')"
   ]
  },
  {
   "cell_type": "code",
   "execution_count": 51,
   "metadata": {},
   "outputs": [],
   "source": [
    "user_count = max(ratings_df['userId'])\n",
    "movie_count = max(ratings_df['movieId'])\n",
    "rate_user_matrix = np.zeros((user_count, movie_count))\n",
    "\n",
    "for _,row in ratings_df.iterrows():\n",
    "    user_index = int(row['userId']) - 1  \n",
    "    movie_index = int(row['movieId']) - 1\n",
    "    rate_user_matrix[user_index, movie_index] = row['rating']"
   ]
  },
  {
   "cell_type": "code",
   "execution_count": null,
   "metadata": {},
   "outputs": [],
   "source": []
  },
  {
   "cell_type": "code",
   "execution_count": null,
   "metadata": {},
   "outputs": [],
   "source": []
  }
 ],
 "metadata": {
  "kernelspec": {
   "display_name": "Python 3",
   "language": "python",
   "name": "python3"
  },
  "language_info": {
   "codemirror_mode": {
    "name": "ipython",
    "version": 3
   },
   "file_extension": ".py",
   "mimetype": "text/x-python",
   "name": "python",
   "nbconvert_exporter": "python",
   "pygments_lexer": "ipython3",
   "version": "3.11.7"
  }
 },
 "nbformat": 4,
 "nbformat_minor": 2
}
